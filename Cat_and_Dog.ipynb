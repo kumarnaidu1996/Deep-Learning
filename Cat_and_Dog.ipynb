{
 "cells": [
  {
   "cell_type": "markdown",
   "metadata": {
    "id": "UMYiIeURGJLO"
   },
   "source": [
    "# Author: Kumar R."
   ]
  },
  {
   "cell_type": "markdown",
   "metadata": {
    "id": "PlPSYutyGJLT"
   },
   "source": [
    "Agenda: Classification of the images either cat or dog. "
   ]
  },
  {
   "cell_type": "code",
   "execution_count": null,
   "metadata": {
    "id": "ylSjMLHQGJLX"
   },
   "outputs": [],
   "source": [
    "#To run in CPU in a GPU ENabled Device\n",
    "import os\n",
    "os.environ[\"CUDA_VISIBLE_DEVICES\"] = \"-1\""
   ]
  },
  {
   "cell_type": "code",
   "execution_count": 1,
   "metadata": {
    "executionInfo": {
     "elapsed": 1861,
     "status": "ok",
     "timestamp": 1616889528109,
     "user": {
      "displayName": "kumar naidu",
      "photoUrl": "https://lh3.googleusercontent.com/a-/AOh14Gif4eWyq6PJPCeZjQCRckQ1x68It-O755mZHjjJv1I=s64",
      "userId": "02782955877092460365"
     },
     "user_tz": -60
    },
    "id": "8qLBOkieGJLZ"
   },
   "outputs": [],
   "source": [
    "#import the required \n",
    "import tensorflow as tf\n",
    "import numpy as np"
   ]
  },
  {
   "cell_type": "code",
   "execution_count": null,
   "metadata": {
    "id": "JAJeV8rKGJLa"
   },
   "outputs": [],
   "source": [
    "#If you want to read from the zip file.\n",
    "import zipfile as zip\n",
    "zipfile = zip.ZipFile('cats_and_dogs.zip', 'r')\n",
    "zipfile.extractall('cats_and_dogs')"
   ]
  },
  {
   "cell_type": "code",
   "execution_count": 5,
   "metadata": {
    "colab": {
     "base_uri": "https://localhost:8080/"
    },
    "executionInfo": {
     "elapsed": 22516,
     "status": "ok",
     "timestamp": 1616889607845,
     "user": {
      "displayName": "kumar naidu",
      "photoUrl": "https://lh3.googleusercontent.com/a-/AOh14Gif4eWyq6PJPCeZjQCRckQ1x68It-O755mZHjjJv1I=s64",
      "userId": "02782955877092460365"
     },
     "user_tz": -60
    },
    "id": "zfmZTzxJGhS5",
    "outputId": "442d447f-3ccf-46b9-8c21-10d61f037ded"
   },
   "outputs": [
    {
     "name": "stdout",
     "output_type": "stream",
     "text": [
      "Mounted at /content/drive/\n"
     ]
    }
   ],
   "source": [
    "from google.colab import drive\n",
    "drive.mount('/content/drive/')"
   ]
  },
  {
   "cell_type": "code",
   "execution_count": 6,
   "metadata": {
    "executionInfo": {
     "elapsed": 455,
     "status": "ok",
     "timestamp": 1616889612209,
     "user": {
      "displayName": "kumar naidu",
      "photoUrl": "https://lh3.googleusercontent.com/a-/AOh14Gif4eWyq6PJPCeZjQCRckQ1x68It-O755mZHjjJv1I=s64",
      "userId": "02782955877092460365"
     },
     "user_tz": -60
    },
    "id": "EA6wVMSAGJLc"
   },
   "outputs": [],
   "source": [
    "#Define Path for train data and test data\n",
    "train_dir = '/content/drive/MyDrive/Colab Notebooks/cats_and_dogs_filtered/train'\n",
    "test_dir = '/content/drive/MyDrive/Colab Notebooks/cats_and_dogs_filtered/validation'"
   ]
  },
  {
   "cell_type": "code",
   "execution_count": 7,
   "metadata": {
    "colab": {
     "base_uri": "https://localhost:8080/"
    },
    "executionInfo": {
     "elapsed": 7223,
     "status": "ok",
     "timestamp": 1616889620153,
     "user": {
      "displayName": "kumar naidu",
      "photoUrl": "https://lh3.googleusercontent.com/a-/AOh14Gif4eWyq6PJPCeZjQCRckQ1x68It-O755mZHjjJv1I=s64",
      "userId": "02782955877092460365"
     },
     "user_tz": -60
    },
    "id": "9UUj2yUBGJLd",
    "outputId": "6400e889-3e4a-479f-f7ca-c6537def3462"
   },
   "outputs": [
    {
     "name": "stdout",
     "output_type": "stream",
     "text": [
      "Found 2000 images belonging to 2 classes.\n",
      "Found 1000 images belonging to 2 classes.\n"
     ]
    }
   ],
   "source": [
    "# All images will be rescaled by 1./255. The intensities will be in the range of 0 -255\n",
    "train_datagen = tf.keras.preprocessing.image.ImageDataGenerator( rescale = 1.0/255. )\n",
    "test_datagen  = tf.keras.preprocessing.image.ImageDataGenerator( rescale = 1.0/255. )\n",
    "\n",
    "# --------------------\n",
    "# Flow training images in batches of 20 using train_datagen generator\n",
    "# --------------------\n",
    "train_generator = train_datagen.flow_from_directory(train_dir,\n",
    "                                                    batch_size=20,\n",
    "                                                    class_mode='binary', #Cats and Dogs\n",
    "                                                    target_size=(64, 64))   #Standard Practice  -- Boolean Alegbra Values like 1 2 4 8 16\n",
    "# --------------------\n",
    "# Flow validation images in batches of 20 using test_datagen generator\n",
    "# --------------------\n",
    "test_generator =  test_datagen.flow_from_directory(test_dir,\n",
    "                                                         batch_size=20,\n",
    "                                                         class_mode  = 'binary', #Binary classification\n",
    "                                                         target_size = (64, 64))"
   ]
  },
  {
   "cell_type": "markdown",
   "metadata": {
    "id": "Q8u4LlS2GJLg"
   },
   "source": [
    "There are 2000 images of cats and dogs in training set and 1000 images of cat and dog in testing dataset"
   ]
  },
  {
   "cell_type": "code",
   "execution_count": 8,
   "metadata": {
    "executionInfo": {
     "elapsed": 5784,
     "status": "ok",
     "timestamp": 1616889630810,
     "user": {
      "displayName": "kumar naidu",
      "photoUrl": "https://lh3.googleusercontent.com/a-/AOh14Gif4eWyq6PJPCeZjQCRckQ1x68It-O755mZHjjJv1I=s64",
      "userId": "02782955877092460365"
     },
     "user_tz": -60
    },
    "id": "H4LYlYMRGJLh"
   },
   "outputs": [],
   "source": [
    "# Initialising the CNN\n",
    "classifier = tf.keras.models.Sequential()\n",
    "\n",
    "# Step 1 - Convolution  #No of Feature Maps, Filter, color image with channel,\n",
    "classifier.add(tf.keras.layers.Conv2D(32, (3, 3), input_shape = (64, 64, 3), activation = 'relu'))\n",
    "\n",
    "# Step 2 - Pooling \n",
    "classifier.add(tf.keras.layers.MaxPooling2D(pool_size = (2, 2)))\n",
    "\n",
    "# Adding a second convolutional layer\n",
    "classifier.add(tf.keras.layers.Conv2D(32, (3, 3), activation = 'relu'))\n",
    "classifier.add(tf.keras.layers.MaxPooling2D(pool_size = (2, 2)))\n",
    "\n",
    "# Step 3 - Flattening\n",
    "classifier.add(tf.keras.layers.Flatten())\n",
    "\n",
    "# Step 4 - Full connection\n",
    "classifier.add(tf.keras.layers.Dropout(0.2))\n",
    "classifier.add(tf.keras.layers.Dense(units = 128, activation = 'relu' , kernel_regularizer=tf.keras.regularizers.l1(0.001)))\n",
    "classifier.add(tf.keras.layers.Dropout(0.2))\n",
    "classifier.add(tf.keras.layers.Dense(units = 128, activation = 'relu' , kernel_regularizer=tf.keras.regularizers.l1(0.001)))\n",
    "classifier.add(tf.keras.layers.Dense(units = 1, activation = 'sigmoid'))\n",
    "\n",
    "# Compiling the CNN\n",
    "classifier.compile(optimizer = tf.keras.optimizers.Nadam(learning_rate=0.01), loss = 'binary_crossentropy', metrics = ['accuracy'])"
   ]
  },
  {
   "cell_type": "code",
   "execution_count": 9,
   "metadata": {
    "colab": {
     "base_uri": "https://localhost:8080/"
    },
    "executionInfo": {
     "elapsed": 835712,
     "status": "ok",
     "timestamp": 1616890473916,
     "user": {
      "displayName": "kumar naidu",
      "photoUrl": "https://lh3.googleusercontent.com/a-/AOh14Gif4eWyq6PJPCeZjQCRckQ1x68It-O755mZHjjJv1I=s64",
      "userId": "02782955877092460365"
     },
     "user_tz": -60
    },
    "id": "IplwrI9dGJLk",
    "outputId": "e104f703-cced-4ae9-beb6-65e1e9f902fe"
   },
   "outputs": [
    {
     "name": "stdout",
     "output_type": "stream",
     "text": [
      "Epoch 1/20\n",
      "100/100 - 652s - loss: 3.4568 - accuracy: 0.5025 - val_loss: 2.7690 - val_accuracy: 0.5000\n",
      "Epoch 2/20\n",
      "100/100 - 9s - loss: 2.9420 - accuracy: 0.4850 - val_loss: 2.7344 - val_accuracy: 0.5000\n",
      "Epoch 3/20\n",
      "100/100 - 9s - loss: 2.9192 - accuracy: 0.4975 - val_loss: 2.7248 - val_accuracy: 0.5000\n",
      "Epoch 4/20\n",
      "100/100 - 9s - loss: 2.9067 - accuracy: 0.4860 - val_loss: 2.7125 - val_accuracy: 0.5000\n",
      "Epoch 5/20\n",
      "100/100 - 9s - loss: 2.8926 - accuracy: 0.5030 - val_loss: 2.7005 - val_accuracy: 0.5000\n",
      "Epoch 6/20\n",
      "100/100 - 9s - loss: 2.8762 - accuracy: 0.4890 - val_loss: 2.6854 - val_accuracy: 0.5000\n",
      "Epoch 7/20\n",
      "100/100 - 9s - loss: 2.8580 - accuracy: 0.4920 - val_loss: 2.6683 - val_accuracy: 0.5000\n",
      "Epoch 8/20\n",
      "100/100 - 9s - loss: 2.8391 - accuracy: 0.4970 - val_loss: 2.6511 - val_accuracy: 0.5000\n",
      "Epoch 9/20\n",
      "100/100 - 9s - loss: 2.8195 - accuracy: 0.4800 - val_loss: 2.6351 - val_accuracy: 0.5000\n",
      "Epoch 10/20\n",
      "100/100 - 9s - loss: 2.7996 - accuracy: 0.4770 - val_loss: 2.6156 - val_accuracy: 0.5000\n",
      "Epoch 11/20\n",
      "100/100 - 9s - loss: 2.7796 - accuracy: 0.4770 - val_loss: 2.5978 - val_accuracy: 0.5000\n",
      "Epoch 12/20\n",
      "100/100 - 9s - loss: 2.7593 - accuracy: 0.4990 - val_loss: 2.5812 - val_accuracy: 0.5000\n",
      "Epoch 13/20\n",
      "100/100 - 9s - loss: 2.7394 - accuracy: 0.4940 - val_loss: 2.5621 - val_accuracy: 0.5000\n",
      "Epoch 14/20\n",
      "100/100 - 9s - loss: 2.7194 - accuracy: 0.5020 - val_loss: 2.5447 - val_accuracy: 0.5000\n",
      "Epoch 15/20\n",
      "100/100 - 9s - loss: 2.6993 - accuracy: 0.4870 - val_loss: 2.5271 - val_accuracy: 0.5000\n",
      "Epoch 16/20\n",
      "100/100 - 9s - loss: 2.6799 - accuracy: 0.4840 - val_loss: 2.5088 - val_accuracy: 0.5000\n",
      "Epoch 17/20\n",
      "100/100 - 9s - loss: 2.6601 - accuracy: 0.4850 - val_loss: 2.4919 - val_accuracy: 0.5000\n",
      "Epoch 18/20\n",
      "100/100 - 9s - loss: 2.6406 - accuracy: 0.4980 - val_loss: 2.4748 - val_accuracy: 0.5000\n",
      "Epoch 19/20\n",
      "100/100 - 9s - loss: 2.6217 - accuracy: 0.4820 - val_loss: 2.4570 - val_accuracy: 0.5000\n",
      "Epoch 20/20\n",
      "100/100 - 9s - loss: 2.6025 - accuracy: 0.4840 - val_loss: 2.4404 - val_accuracy: 0.5000\n"
     ]
    }
   ],
   "source": [
    "result = classifier.fit(train_generator,\n",
    "                              validation_data=test_generator,\n",
    "                              steps_per_epoch=100,   #NumberofImages = BatchSize*StepsPerEpoch\n",
    "                              epochs=20,\n",
    "                              validation_steps=50,   #NumberofImages = BatchSize*StepsPerEpoch\n",
    "                              verbose=2)"
   ]
  },
  {
   "cell_type": "code",
   "execution_count": 12,
   "metadata": {
    "colab": {
     "base_uri": "https://localhost:8080/",
     "height": 298
    },
    "executionInfo": {
     "elapsed": 532,
     "status": "ok",
     "timestamp": 1616890569254,
     "user": {
      "displayName": "kumar naidu",
      "photoUrl": "https://lh3.googleusercontent.com/a-/AOh14Gif4eWyq6PJPCeZjQCRckQ1x68It-O755mZHjjJv1I=s64",
      "userId": "02782955877092460365"
     },
     "user_tz": -60
    },
    "id": "9TXR8r8eIg1L",
    "outputId": "f9aa7f98-64be-42df-9b17-485cb3f90901"
   },
   "outputs": [
    {
     "data": {
      "text/plain": [
       "Text(0.5, 1.0, 'Training and validation accuracy')"
      ]
     },
     "execution_count": 12,
     "metadata": {
      "tags": []
     },
     "output_type": "execute_result"
    },
    {
     "data": {
      "image/png": "[encoded data removed]",
      "text/plain": [
       "<Figure size 432x288 with 1 Axes>"
      ]
     },
     "metadata": {
      "needs_background": "light",
      "tags": []
     },
     "output_type": "display_data"
    }
   ],
   "source": [
    "import matplotlib.pyplot as plt\n",
    "acc = result.history['accuracy']\n",
    "val_acc = result.history['val_accuracy']\n",
    "\n",
    "\n",
    "epochs = range(len(acc))\n",
    "\n",
    "plt.plot(epochs, acc, 'bo', label='Training accuracy')\n",
    "plt.plot(epochs, val_acc, 'g', label='Validation accuracy')\n",
    "plt.title('Training and validation accuracy')"
   ]
  },
  {
   "cell_type": "code",
   "execution_count": 15,
   "metadata": {
    "colab": {
     "base_uri": "https://localhost:8080/"
    },
    "executionInfo": {
     "elapsed": 838,
     "status": "ok",
     "timestamp": 1616890881385,
     "user": {
      "displayName": "kumar naidu",
      "photoUrl": "https://lh3.googleusercontent.com/a-/AOh14Gif4eWyq6PJPCeZjQCRckQ1x68It-O755mZHjjJv1I=s64",
      "userId": "02782955877092460365"
     },
     "user_tz": -60
    },
    "id": "IcHC3jUJGJLo",
    "outputId": "9ae0dc1c-9017-4d62-a042-22e9d49f270f"
   },
   "outputs": [
    {
     "name": "stdout",
     "output_type": "stream",
     "text": [
      "Dog\n"
     ]
    }
   ],
   "source": [
    "imageLocation = '/content/drive/MyDrive/Colab Notebooks/cats_and_dogs_filtered/validation/dogs/dog.2000.jpg'\n",
    "#Load the Image\n",
    "imageLoad = tf.keras.preprocessing.image.load_img(imageLocation , target_size=(64,64))\n",
    "#Convert Image to Array\n",
    "imageArray = tf.keras.preprocessing.image.img_to_array(imageLoad)\n",
    "#Model Expects Image Input in the form of Batch\n",
    "imageCompatibleIp = np.array([imageArray])\n",
    "#The Batch can be given as an input to model\n",
    "pred = classifier.predict(imageCompatibleIp)\n",
    "#\n",
    "if pred == 0:\n",
    "    print(\"Cat\")\n",
    "else:\n",
    "    print(\"Dog\")\n",
    "\n"
   ]
  },
  {
   "cell_type": "markdown",
   "metadata": {
    "id": "9IrsPmGfGJLq"
   },
   "source": [
    "### Following the below methods to increase the accuracy of the model"
   ]
  },
  {
   "cell_type": "markdown",
   "metadata": {
    "id": "If_yI5atGJLr"
   },
   "source": [
    "# Test 1"
   ]
  },
  {
   "cell_type": "code",
   "execution_count": 18,
   "metadata": {
    "colab": {
     "base_uri": "https://localhost:8080/"
    },
    "executionInfo": {
     "elapsed": 217071,
     "status": "ok",
     "timestamp": 1616891380606,
     "user": {
      "displayName": "kumar naidu",
      "photoUrl": "https://lh3.googleusercontent.com/a-/AOh14Gif4eWyq6PJPCeZjQCRckQ1x68It-O755mZHjjJv1I=s64",
      "userId": "02782955877092460365"
     },
     "user_tz": -60
    },
    "id": "y7v5p2PWGJLr",
    "outputId": "b889540e-a2c2-4e41-fd8b-3c1e093f7e8d"
   },
   "outputs": [
    {
     "name": "stdout",
     "output_type": "stream",
     "text": [
      "Found 2000 images belonging to 2 classes.\n",
      "Found 1000 images belonging to 2 classes.\n"
     ]
    },
    {
     "name": "stderr",
     "output_type": "stream",
     "text": [
      "/usr/local/lib/python3.7/dist-packages/tensorflow/python/keras/engine/training.py:1844: UserWarning: `Model.fit_generator` is deprecated and will be removed in a future version. Please use `Model.fit`, which supports generators.\n",
      "  warnings.warn('`Model.fit_generator` is deprecated and '\n"
     ]
    },
    {
     "name": "stdout",
     "output_type": "stream",
     "text": [
      "Epoch 1/20\n",
      "100/100 - 12s - loss: 0.6903 - acc: 0.5185 - val_loss: 0.6730 - val_acc: 0.5770\n",
      "Epoch 2/20\n",
      "100/100 - 11s - loss: 0.6624 - acc: 0.6045 - val_loss: 0.6568 - val_acc: 0.6190\n",
      "Epoch 3/20\n",
      "100/100 - 11s - loss: 0.6261 - acc: 0.6520 - val_loss: 0.6094 - val_acc: 0.6800\n",
      "Epoch 4/20\n",
      "100/100 - 11s - loss: 0.5875 - acc: 0.6915 - val_loss: 0.6255 - val_acc: 0.6570\n",
      "Epoch 5/20\n",
      "100/100 - 11s - loss: 0.5478 - acc: 0.7185 - val_loss: 0.5688 - val_acc: 0.7000\n",
      "Epoch 6/20\n",
      "100/100 - 11s - loss: 0.5127 - acc: 0.7520 - val_loss: 0.5588 - val_acc: 0.7020\n",
      "Epoch 7/20\n",
      "100/100 - 11s - loss: 0.4818 - acc: 0.7770 - val_loss: 0.5893 - val_acc: 0.6910\n",
      "Epoch 8/20\n",
      "100/100 - 11s - loss: 0.4640 - acc: 0.7705 - val_loss: 0.5501 - val_acc: 0.7290\n",
      "Epoch 9/20\n",
      "100/100 - 11s - loss: 0.4385 - acc: 0.8020 - val_loss: 0.5591 - val_acc: 0.7170\n",
      "Epoch 10/20\n",
      "100/100 - 11s - loss: 0.4122 - acc: 0.8100 - val_loss: 0.5921 - val_acc: 0.7090\n",
      "Epoch 11/20\n",
      "100/100 - 11s - loss: 0.3900 - acc: 0.8240 - val_loss: 0.5346 - val_acc: 0.7440\n",
      "Epoch 12/20\n",
      "100/100 - 11s - loss: 0.3732 - acc: 0.8290 - val_loss: 0.5455 - val_acc: 0.7420\n",
      "Epoch 13/20\n",
      "100/100 - 11s - loss: 0.3451 - acc: 0.8550 - val_loss: 0.5418 - val_acc: 0.7410\n",
      "Epoch 14/20\n",
      "100/100 - 11s - loss: 0.3206 - acc: 0.8575 - val_loss: 0.5592 - val_acc: 0.7400\n",
      "Epoch 15/20\n",
      "100/100 - 11s - loss: 0.3085 - acc: 0.8660 - val_loss: 0.5546 - val_acc: 0.7320\n",
      "Epoch 16/20\n",
      "100/100 - 11s - loss: 0.2766 - acc: 0.8825 - val_loss: 0.5551 - val_acc: 0.7390\n",
      "Epoch 17/20\n",
      "100/100 - 11s - loss: 0.2625 - acc: 0.8955 - val_loss: 0.6263 - val_acc: 0.7330\n",
      "Epoch 18/20\n",
      "100/100 - 11s - loss: 0.2331 - acc: 0.9140 - val_loss: 0.5960 - val_acc: 0.7420\n",
      "Epoch 19/20\n",
      "100/100 - 11s - loss: 0.2198 - acc: 0.9175 - val_loss: 0.6159 - val_acc: 0.7370\n",
      "Epoch 20/20\n",
      "100/100 - 11s - loss: 0.1979 - acc: 0.9310 - val_loss: 0.6046 - val_acc: 0.7390\n"
     ]
    }
   ],
   "source": [
    "import tensorflow as tf\n",
    "from tensorflow.keras.optimizers import RMSprop\n",
    "from tensorflow.keras.preprocessing.image import ImageDataGenerator\n",
    "\n",
    "#Define Path for train data and test data\n",
    "train_dir = '/content/drive/MyDrive/Colab Notebooks/cats_and_dogs_filtered/train'\n",
    "validation_dir = '/content/drive/MyDrive/Colab Notebooks/cats_and_dogs_filtered/validation/'\n",
    "\n",
    "#Build a CNN model\n",
    "model = tf.keras.models.Sequential([\n",
    "    tf.keras.layers.Conv2D(32, (3,3), activation='relu', input_shape=(150, 150, 3)),\n",
    "    tf.keras.layers.MaxPooling2D(2, 2),\n",
    "    tf.keras.layers.Conv2D(64, (3,3), activation='relu'),\n",
    "    tf.keras.layers.MaxPooling2D(2,2),\n",
    "    tf.keras.layers.Conv2D(128, (3,3), activation='relu'),\n",
    "    tf.keras.layers.MaxPooling2D(2,2),\n",
    "    tf.keras.layers.Conv2D(128, (3,3), activation='relu'),\n",
    "    tf.keras.layers.MaxPooling2D(2,2),\n",
    "    tf.keras.layers.Flatten(),\n",
    "    tf.keras.layers.Dense(512, activation='relu'),\n",
    "    tf.keras.layers.Dense(1, activation='sigmoid')\n",
    "])\n",
    "\n",
    "#Compile the model\n",
    "model.compile(loss='binary_crossentropy',\n",
    "              optimizer=RMSprop(lr=1e-4),\n",
    "              metrics=['acc'])\n",
    "\n",
    "# All images will be rescaled by 1./255\n",
    "train_datagen = ImageDataGenerator(rescale=1./255)\n",
    "test_datagen = ImageDataGenerator(rescale=1./255)\n",
    "\n",
    "# Flow training images in batches of 20 using train_datagen generator\n",
    "train_generator = train_datagen.flow_from_directory(\n",
    "        train_dir,  # This is the source directory for training images\n",
    "        target_size=(150, 150),  # All images will be resized to 150x150\n",
    "        batch_size=20,\n",
    "        # Since we use binary_crossentropy loss, we need binary labels\n",
    "        class_mode='binary')\n",
    "\n",
    "# Flow validation images in batches of 20 using test_datagen generator\n",
    "validation_generator = test_datagen.flow_from_directory(\n",
    "        validation_dir,\n",
    "        target_size=(150, 150),\n",
    "        batch_size=20,\n",
    "        class_mode='binary')\n",
    "\n",
    "history = model.fit_generator(\n",
    "      train_generator,\n",
    "      steps_per_epoch=100,  # 2000 images = batch_size * steps\n",
    "      epochs=20,\n",
    "      validation_data=validation_generator,\n",
    "      validation_steps=50,  # 1000 images = batch_size * steps\n",
    "      verbose=2)\n"
   ]
  },
  {
   "cell_type": "code",
   "execution_count": 20,
   "metadata": {
    "colab": {
     "base_uri": "https://localhost:8080/",
     "height": 298
    },
    "executionInfo": {
     "elapsed": 583,
     "status": "ok",
     "timestamp": 1616891526118,
     "user": {
      "displayName": "kumar naidu",
      "photoUrl": "https://lh3.googleusercontent.com/a-/AOh14Gif4eWyq6PJPCeZjQCRckQ1x68It-O755mZHjjJv1I=s64",
      "userId": "02782955877092460365"
     },
     "user_tz": -60
    },
    "id": "1_DALGRmGJLt",
    "outputId": "714cb686-a9e0-4729-cad8-a0096dc00485"
   },
   "outputs": [
    {
     "data": {
      "text/plain": [
       "Text(0.5, 1.0, 'Training and validation accuracy')"
      ]
     },
     "execution_count": 20,
     "metadata": {
      "tags": []
     },
     "output_type": "execute_result"
    },
    {
     "data": {
      "image/png": "[encoded data removed]",
      "text/plain": [
       "<Figure size 432x288 with 1 Axes>"
      ]
     },
     "metadata": {
      "needs_background": "light",
      "tags": []
     },
     "output_type": "display_data"
    }
   ],
   "source": [
    "import matplotlib.pyplot as plt\n",
    "acc = history.history['acc']\n",
    "val_acc = history.history['val_acc']\n",
    "\n",
    "\n",
    "epochs = range(len(acc))\n",
    "\n",
    "plt.plot(epochs, acc, 'bo', label='Training accuracy')\n",
    "plt.plot(epochs, val_acc, 'g', label='Validation accuracy')\n",
    "plt.title('Training and validation accuracy')"
   ]
  },
  {
   "cell_type": "markdown",
   "metadata": {
    "id": "mWW8HUD6GJLv"
   },
   "source": [
    "# Test 2"
   ]
  },
  {
   "cell_type": "code",
   "execution_count": 35,
   "metadata": {
    "colab": {
     "base_uri": "https://localhost:8080/"
    },
    "executionInfo": {
     "elapsed": 383810,
     "status": "ok",
     "timestamp": 1616892754507,
     "user": {
      "displayName": "kumar naidu",
      "photoUrl": "https://lh3.googleusercontent.com/a-/AOh14Gif4eWyq6PJPCeZjQCRckQ1x68It-O755mZHjjJv1I=s64",
      "userId": "02782955877092460365"
     },
     "user_tz": -60
    },
    "id": "Mz4XffloGJLw",
    "outputId": "e06dbc3f-a1a2-4494-fcfe-696e5bc7850c"
   },
   "outputs": [
    {
     "name": "stdout",
     "output_type": "stream",
     "text": [
      "Found 2000 images belonging to 2 classes.\n",
      "Found 1000 images belonging to 2 classes.\n"
     ]
    },
    {
     "name": "stderr",
     "output_type": "stream",
     "text": [
      "/usr/local/lib/python3.7/dist-packages/tensorflow/python/keras/engine/training.py:1844: UserWarning: `Model.fit_generator` is deprecated and will be removed in a future version. Please use `Model.fit`, which supports generators.\n",
      "  warnings.warn('`Model.fit_generator` is deprecated and '\n"
     ]
    },
    {
     "name": "stdout",
     "output_type": "stream",
     "text": [
      "Epoch 1/20\n",
      "100/100 - 20s - loss: 0.6943 - acc: 0.5125 - val_loss: 0.6854 - val_acc: 0.5000\n",
      "Epoch 2/20\n",
      "100/100 - 19s - loss: 0.6821 - acc: 0.5700 - val_loss: 0.6562 - val_acc: 0.6490\n",
      "Epoch 3/20\n",
      "100/100 - 19s - loss: 0.6629 - acc: 0.5950 - val_loss: 0.6338 - val_acc: 0.6520\n",
      "Epoch 4/20\n",
      "100/100 - 19s - loss: 0.6537 - acc: 0.6010 - val_loss: 0.6885 - val_acc: 0.5510\n",
      "Epoch 5/20\n",
      "100/100 - 20s - loss: 0.6370 - acc: 0.6355 - val_loss: 0.5881 - val_acc: 0.6900\n",
      "Epoch 6/20\n",
      "100/100 - 19s - loss: 0.6140 - acc: 0.6505 - val_loss: 0.5851 - val_acc: 0.6880\n",
      "Epoch 7/20\n",
      "100/100 - 19s - loss: 0.6049 - acc: 0.6605 - val_loss: 0.5712 - val_acc: 0.6870\n",
      "Epoch 8/20\n",
      "100/100 - 19s - loss: 0.6044 - acc: 0.6645 - val_loss: 0.5720 - val_acc: 0.6760\n",
      "Epoch 9/20\n",
      "100/100 - 19s - loss: 0.5940 - acc: 0.6710 - val_loss: 0.5446 - val_acc: 0.7110\n",
      "Epoch 10/20\n",
      "100/100 - 19s - loss: 0.5872 - acc: 0.6845 - val_loss: 0.5671 - val_acc: 0.6890\n",
      "Epoch 11/20\n",
      "100/100 - 19s - loss: 0.5857 - acc: 0.6790 - val_loss: 0.5599 - val_acc: 0.7050\n",
      "Epoch 12/20\n",
      "100/100 - 19s - loss: 0.5770 - acc: 0.6935 - val_loss: 0.5327 - val_acc: 0.7190\n",
      "Epoch 13/20\n",
      "100/100 - 19s - loss: 0.5724 - acc: 0.6995 - val_loss: 0.5366 - val_acc: 0.7220\n",
      "Epoch 14/20\n",
      "100/100 - 19s - loss: 0.5521 - acc: 0.7155 - val_loss: 0.5274 - val_acc: 0.7220\n",
      "Epoch 15/20\n",
      "100/100 - 20s - loss: 0.5613 - acc: 0.7125 - val_loss: 0.5392 - val_acc: 0.7220\n",
      "Epoch 16/20\n",
      "100/100 - 19s - loss: 0.5503 - acc: 0.7155 - val_loss: 0.5493 - val_acc: 0.7090\n",
      "Epoch 17/20\n",
      "100/100 - 19s - loss: 0.5528 - acc: 0.7210 - val_loss: 0.5301 - val_acc: 0.7170\n",
      "Epoch 18/20\n",
      "100/100 - 19s - loss: 0.5547 - acc: 0.7115 - val_loss: 0.5856 - val_acc: 0.6780\n",
      "Epoch 19/20\n",
      "100/100 - 19s - loss: 0.5413 - acc: 0.7310 - val_loss: 0.5170 - val_acc: 0.7370\n",
      "Epoch 20/20\n",
      "100/100 - 19s - loss: 0.5415 - acc: 0.7285 - val_loss: 0.5789 - val_acc: 0.7040\n"
     ]
    }
   ],
   "source": [
    "#Import the libraries\n",
    "import tensorflow as tf\n",
    "from tensorflow.keras.optimizers import RMSprop\n",
    "from tensorflow.keras.preprocessing.image import ImageDataGenerator\n",
    "\n",
    "#Build a model\n",
    "model = tf.keras.models.Sequential([\n",
    "    tf.keras.layers.Conv2D(32, (3,3), activation='relu', input_shape=(150, 150, 3)),\n",
    "    tf.keras.layers.MaxPooling2D(2, 2),\n",
    "    tf.keras.layers.Conv2D(64, (3,3), activation='relu'),\n",
    "    tf.keras.layers.MaxPooling2D(2,2),\n",
    "    tf.keras.layers.Conv2D(128, (3,3), activation='relu'),\n",
    "    tf.keras.layers.MaxPooling2D(2,2),\n",
    "    tf.keras.layers.Conv2D(128, (3,3), activation='relu'),\n",
    "    tf.keras.layers.MaxPooling2D(2,2),\n",
    "    tf.keras.layers.Flatten(),\n",
    "    tf.keras.layers.Dense(512, activation='relu'),\n",
    "    tf.keras.layers.Dense(1, activation='sigmoid')\n",
    "])\n",
    "#Compile\n",
    "model.compile(loss='binary_crossentropy',\n",
    "              optimizer=RMSprop(lr=1e-4),\n",
    "              metrics=['acc'])\n",
    "\n",
    "\n",
    "# This code has changed. Now instead of the ImageGenerator just rescaling\n",
    "# the image, we also rotate and do other operations\n",
    "# Updated to do image augmentation. \n",
    "train_datagen = ImageDataGenerator(\n",
    "      rescale=1./255,\n",
    "      rotation_range=40,\n",
    "      width_shift_range=0.2,\n",
    "      height_shift_range=0.2,\n",
    "      shear_range=0.2,\n",
    "      zoom_range=0.2,\n",
    "      horizontal_flip=True,\n",
    "      fill_mode='nearest')\n",
    "\n",
    "test_datagen = ImageDataGenerator(rescale=1./255)\n",
    "\n",
    "# Flow training images in batches of 20 using train_datagen generator\n",
    "train_generator = train_datagen.flow_from_directory(\n",
    "        train_dir,  # This is the source directory for training images\n",
    "        target_size=(150, 150),  # All images will be resized to 150x150\n",
    "        batch_size=20,\n",
    "        # Since we use binary_crossentropy loss, we need binary labels\n",
    "        class_mode='binary')\n",
    "\n",
    "# Flow validation images in batches of 20 using test_datagen generator\n",
    "validation_generator = test_datagen.flow_from_directory(\n",
    "        test_dir,\n",
    "        target_size=(150, 150),\n",
    "        batch_size=20,\n",
    "        class_mode='binary')\n",
    "\n",
    "history = model.fit_generator(\n",
    "      train_generator,\n",
    "      steps_per_epoch=100,  # 2000 images = batch_size * steps\n",
    "      epochs=20,\n",
    "      validation_data=validation_generator,\n",
    "      validation_steps=50,  # 1000 images = batch_size * steps\n",
    "      verbose=2)\n"
   ]
  },
  {
   "cell_type": "code",
   "execution_count": 36,
   "metadata": {
    "colab": {
     "base_uri": "https://localhost:8080/",
     "height": 298
    },
    "executionInfo": {
     "elapsed": 775,
     "status": "ok",
     "timestamp": 1616892765990,
     "user": {
      "displayName": "kumar naidu",
      "photoUrl": "https://lh3.googleusercontent.com/a-/AOh14Gif4eWyq6PJPCeZjQCRckQ1x68It-O755mZHjjJv1I=s64",
      "userId": "02782955877092460365"
     },
     "user_tz": -60
    },
    "id": "WELOOVTfGJLz",
    "outputId": "9cc85a26-e5f8-4858-e2e8-a5db15f78c92"
   },
   "outputs": [
    {
     "data": {
      "text/plain": [
       "Text(0.5, 1.0, 'Training and validation accuracy')"
      ]
     },
     "execution_count": 36,
     "metadata": {
      "tags": []
     },
     "output_type": "execute_result"
    },
    {
     "data": {
      "image/png": "[encoded data removed]",
      "text/plain": [
       "<Figure size 432x288 with 1 Axes>"
      ]
     },
     "metadata": {
      "needs_background": "light",
      "tags": []
     },
     "output_type": "display_data"
    }
   ],
   "source": [
    "import matplotlib.pyplot as plt\n",
    "acc = history.history['acc']\n",
    "val_acc = history.history['val_acc']\n",
    "\n",
    "\n",
    "epochs = range(len(acc))\n",
    "\n",
    "plt.plot(epochs, acc, 'bo', label='Training accuracy')\n",
    "plt.plot(epochs, val_acc, 'g', label='Validation accuracy')\n",
    "plt.title('Training and validation accuracy')"
   ]
  },
  {
   "cell_type": "code",
   "execution_count": 37,
   "metadata": {
    "colab": {
     "base_uri": "https://localhost:8080/",
     "height": 167
    },
    "executionInfo": {
     "elapsed": 634,
     "status": "ok",
     "timestamp": 1616892772498,
     "user": {
      "displayName": "kumar naidu",
      "photoUrl": "https://lh3.googleusercontent.com/a-/AOh14Gif4eWyq6PJPCeZjQCRckQ1x68It-O755mZHjjJv1I=s64",
      "userId": "02782955877092460365"
     },
     "user_tz": -60
    },
    "id": "Q7HXr3TVTih0",
    "outputId": "fafa93fa-f41f-4348-f04b-bcb3a3a9d6db"
   },
   "outputs": [
    {
     "data": {
      "image/png": "[encoded data removed]",
      "text/plain": [
       "<PIL.Image.Image image mode=RGB size=150x150 at 0x7F1DCEE69990>"
      ]
     },
     "execution_count": 37,
     "metadata": {
      "tags": []
     },
     "output_type": "execute_result"
    }
   ],
   "source": [
    "#prediction - 1\n",
    "image_loc = '/content/drive/MyDrive/Colab Notebooks/cats_and_dogs_filtered/validation/dogs/dog.2003.jpg'\n",
    "#load the image\n",
    "image_load = tf.keras.preprocessing.image.load_img(image_loc, target_size=(150,150))\n",
    "#Convert image to array\n",
    "image_aray = tf.keras.preprocessing.image.img_to_array(image_load)\n",
    "#Batch array\n",
    "image_batch = np.array([image_aray])\n",
    "image_load"
   ]
  },
  {
   "cell_type": "code",
   "execution_count": 38,
   "metadata": {
    "colab": {
     "base_uri": "https://localhost:8080/"
    },
    "executionInfo": {
     "elapsed": 426,
     "status": "ok",
     "timestamp": 1616892776904,
     "user": {
      "displayName": "kumar naidu",
      "photoUrl": "https://lh3.googleusercontent.com/a-/AOh14Gif4eWyq6PJPCeZjQCRckQ1x68It-O755mZHjjJv1I=s64",
      "userId": "02782955877092460365"
     },
     "user_tz": -60
    },
    "id": "aK4FjfzFTjVE",
    "outputId": "164abdc6-cca2-47c6-f3fb-bc0e61c25505"
   },
   "outputs": [
    {
     "name": "stdout",
     "output_type": "stream",
     "text": [
      "predicted value:  [[1.]]\n",
      "predicted class:  [[1]]\n",
      "\n",
      "Its a Dog\n"
     ]
    }
   ],
   "source": [
    "#Predicting the classification of image.\n",
    "predi = model.predict(image_batch)\n",
    "prediction = (model.predict(image_batch)>0.5).astype('int32')\n",
    "print('predicted value: ',predi)\n",
    "print('predicted class: ',prediction)\n",
    "print(\"\")\n",
    "if prediction==0:\n",
    "  print(\"It's a Cat\")\n",
    "else:\n",
    "  print('Its a Dog')"
   ]
  },
  {
   "cell_type": "code",
   "execution_count": 46,
   "metadata": {
    "colab": {
     "base_uri": "https://localhost:8080/",
     "height": 167
    },
    "executionInfo": {
     "elapsed": 768,
     "status": "ok",
     "timestamp": 1616892901194,
     "user": {
      "displayName": "kumar naidu",
      "photoUrl": "https://lh3.googleusercontent.com/a-/AOh14Gif4eWyq6PJPCeZjQCRckQ1x68It-O755mZHjjJv1I=s64",
      "userId": "02782955877092460365"
     },
     "user_tz": -60
    },
    "id": "r0_pH3cRRPDV",
    "outputId": "b1fe689b-6ba9-49a2-9eb4-70be0569468b"
   },
   "outputs": [
    {
     "data": {
      "image/png": "[encoded data removed]",
      "text/plain": [
       "<PIL.Image.Image image mode=RGB size=150x150 at 0x7F1DCEA4CC90>"
      ]
     },
     "execution_count": 46,
     "metadata": {
      "tags": []
     },
     "output_type": "execute_result"
    }
   ],
   "source": [
    "#prediction - 1\n",
    "image_loc = '/content/drive/MyDrive/Colab Notebooks/cats_and_dogs_filtered/validation/cats/cat.2005.jpg'\n",
    "#load the image\n",
    "image_load = tf.keras.preprocessing.image.load_img(image_loc, target_size=(150,150))\n",
    "#Convert image to array\n",
    "image_aray = tf.keras.preprocessing.image.img_to_array(image_load)\n",
    "#Batch array\n",
    "image_batch = np.array([image_aray])\n",
    "image_load"
   ]
  },
  {
   "cell_type": "code",
   "execution_count": 47,
   "metadata": {
    "colab": {
     "base_uri": "https://localhost:8080/"
    },
    "executionInfo": {
     "elapsed": 556,
     "status": "ok",
     "timestamp": 1616892903154,
     "user": {
      "displayName": "kumar naidu",
      "photoUrl": "https://lh3.googleusercontent.com/a-/AOh14Gif4eWyq6PJPCeZjQCRckQ1x68It-O755mZHjjJv1I=s64",
      "userId": "02782955877092460365"
     },
     "user_tz": -60
    },
    "id": "vOvCppJjRQ6t",
    "outputId": "eda0a276-b6e9-4233-9d0d-339a489931a3"
   },
   "outputs": [
    {
     "name": "stdout",
     "output_type": "stream",
     "text": [
      "predicted value:  [[4.093167e-11]]\n",
      "predicted class:  [[0]]\n",
      "\n",
      "It's a Cat\n"
     ]
    }
   ],
   "source": [
    "#Predicting the classification of image.\n",
    "predi = model.predict(image_batch)\n",
    "prediction = (model.predict(image_batch)>0.5).astype('int32')\n",
    "print('predicted value: ',predi)\n",
    "print('predicted class: ',prediction)\n",
    "print(\"\")\n",
    "if prediction==0:\n",
    "  print(\"It's a Cat\")\n",
    "else:\n",
    "  print('Its a Dog')"
   ]
  },
  {
   "cell_type": "code",
   "execution_count": null,
   "metadata": {
    "id": "vC7vHiX7GJL1"
   },
   "outputs": [],
   "source": []
  }
 ],
 "metadata": {
  "accelerator": "GPU",
  "colab": {
   "collapsed_sections": [],
   "name": "git_CatDogExample1.ipynb",
   "provenance": []
  },
  "kernelspec": {
   "display_name": "Python 3",
   "language": "python",
   "name": "python3"
  },
  "language_info": {
   "codemirror_mode": {
    "name": "ipython",
    "version": 3
   },
   "file_extension": ".py",
   "mimetype": "text/x-python",
   "name": "python",
   "nbconvert_exporter": "python",
   "pygments_lexer": "ipython3",
   "version": "3.8.3"
  }
 },
 "nbformat": 4,
 "nbformat_minor": 1
}
