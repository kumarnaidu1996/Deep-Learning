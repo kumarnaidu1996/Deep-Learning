{
 "cells": [
  {
   "cell_type": "markdown",
   "metadata": {
    "id": "vz9YGGUotl_2"
   },
   "source": [
    "# Author: Kumar R.\n",
    "\n",
    "**Problem Statement: Classification of Horse or Humans using CNN Algoarithm.**"
   ]
  },
  {
   "cell_type": "markdown",
   "metadata": {
    "id": "2UqWM15-Aomk"
   },
   "source": [
    "Train the model using training imgaes and test the performance of the model using validation images. Check whether the model is working properly by prediction. "
   ]
  },
  {
   "cell_type": "code",
   "execution_count": 1,
   "metadata": {
    "executionInfo": {
     "elapsed": 2042,
     "status": "ok",
     "timestamp": 1616845637483,
     "user": {
      "displayName": "kumar naidu",
      "photoUrl": "https://lh3.googleusercontent.com/a-/AOh14Gif4eWyq6PJPCeZjQCRckQ1x68It-O755mZHjjJv1I=s64",
      "userId": "02782955877092460365"
     },
     "user_tz": -60
    },
    "id": "R5ONQi5XAoi5"
   },
   "outputs": [],
   "source": [
    "#Import the required libraries\n",
    "import numpy as np\n",
    "import tensorflow as tf\n",
    "from tensorflow.keras.preprocessing.image import ImageDataGenerator"
   ]
  },
  {
   "cell_type": "code",
   "execution_count": 2,
   "metadata": {
    "executionInfo": {
     "elapsed": 543,
     "status": "ok",
     "timestamp": 1616845639721,
     "user": {
      "displayName": "kumar naidu",
      "photoUrl": "https://lh3.googleusercontent.com/a-/AOh14Gif4eWyq6PJPCeZjQCRckQ1x68It-O755mZHjjJv1I=s64",
      "userId": "02782955877092460365"
     },
     "user_tz": -60
    },
    "id": "I78mTr0lAogY"
   },
   "outputs": [],
   "source": [
    "#Importing the optimizer \n",
    "from tensorflow.keras.optimizers import RMSprop"
   ]
  },
  {
   "cell_type": "code",
   "execution_count": 3,
   "metadata": {
    "colab": {
     "base_uri": "https://localhost:8080/"
    },
    "executionInfo": {
     "elapsed": 34328,
     "status": "ok",
     "timestamp": 1616845676308,
     "user": {
      "displayName": "kumar naidu",
      "photoUrl": "https://lh3.googleusercontent.com/a-/AOh14Gif4eWyq6PJPCeZjQCRckQ1x68It-O755mZHjjJv1I=s64",
      "userId": "02782955877092460365"
     },
     "user_tz": -60
    },
    "id": "-ww21bfPAoP-",
    "outputId": "74856318-93e6-4aa5-f365-3d430c8aebfb"
   },
   "outputs": [
    {
     "name": "stdout",
     "output_type": "stream",
     "text": [
      "Mounted at /content/drive/\n"
     ]
    }
   ],
   "source": [
    "#creating a drive path to load the dataset from the drive account. This is used only if we are training the model using google colab.\n",
    "from google.colab import drive\n",
    "drive.mount('/content/drive/')"
   ]
  },
  {
   "cell_type": "code",
   "execution_count": 4,
   "metadata": {
    "executionInfo": {
     "elapsed": 3210,
     "status": "ok",
     "timestamp": 1616845687983,
     "user": {
      "displayName": "kumar naidu",
      "photoUrl": "https://lh3.googleusercontent.com/a-/AOh14Gif4eWyq6PJPCeZjQCRckQ1x68It-O755mZHjjJv1I=s64",
      "userId": "02782955877092460365"
     },
     "user_tz": -60
    },
    "id": "uqP5nYPsCcUE"
   },
   "outputs": [],
   "source": [
    "#Installing keras on server\n",
    "!pip install -q keras"
   ]
  },
  {
   "cell_type": "code",
   "execution_count": 5,
   "metadata": {
    "executionInfo": {
     "elapsed": 473,
     "status": "ok",
     "timestamp": 1616845689703,
     "user": {
      "displayName": "kumar naidu",
      "photoUrl": "https://lh3.googleusercontent.com/a-/AOh14Gif4eWyq6PJPCeZjQCRckQ1x68It-O755mZHjjJv1I=s64",
      "userId": "02782955877092460365"
     },
     "user_tz": -60
    },
    "id": "IzlG6hb0CnY1"
   },
   "outputs": [],
   "source": [
    "import keras"
   ]
  },
  {
   "cell_type": "code",
   "execution_count": 6,
   "metadata": {
    "executionInfo": {
     "elapsed": 515,
     "status": "ok",
     "timestamp": 1616845692145,
     "user": {
      "displayName": "kumar naidu",
      "photoUrl": "https://lh3.googleusercontent.com/a-/AOh14Gif4eWyq6PJPCeZjQCRckQ1x68It-O755mZHjjJv1I=s64",
      "userId": "02782955877092460365"
     },
     "user_tz": -60
    },
    "id": "f1y4MbIaCplP"
   },
   "outputs": [],
   "source": [
    "#Load the traning and testing images from the drive\n",
    "train = '/content/drive/MyDrive/Colab Notebooks/Assignment1`/Train' \n",
    "test = '/content/drive/MyDrive/Colab Notebooks/Assignment1`/Validation'"
   ]
  },
  {
   "cell_type": "code",
   "execution_count": 7,
   "metadata": {
    "colab": {
     "base_uri": "https://localhost:8080/"
    },
    "executionInfo": {
     "elapsed": 3964,
     "status": "ok",
     "timestamp": 1616845697155,
     "user": {
      "displayName": "kumar naidu",
      "photoUrl": "https://lh3.googleusercontent.com/a-/AOh14Gif4eWyq6PJPCeZjQCRckQ1x68It-O755mZHjjJv1I=s64",
      "userId": "02782955877092460365"
     },
     "user_tz": -60
    },
    "id": "sWYH3TlbC65O",
    "outputId": "bda7822d-6ccc-4d09-c7d6-f10d21bf41af"
   },
   "outputs": [
    {
     "name": "stdout",
     "output_type": "stream",
     "text": [
      "Found 1027 images belonging to 2 classes.\n",
      "Found 256 images belonging to 2 classes.\n"
     ]
    }
   ],
   "source": [
    "#Rescale all the images to 1.0/255. The intensity of all the images will be 0-255.\n",
    "\n",
    "train_data = ImageDataGenerator(rescale=1./255,\n",
    "                                rotation_range=40,\n",
    "                                width_shift_range=0.2,\n",
    "                                height_shift_range=0.2,\n",
    "                                shear_range=0.2,\n",
    "                                zoom_range=0.2,\n",
    "                                horizontal_flip=True,\n",
    "                                fill_mode='nearest')\n",
    "test_data = ImageDataGenerator(rescale=1./255) \n",
    "#ImageDataGenerator is used to expand the training dataset in order to improve the performance \n",
    "#and ability of the model to generalize.\n",
    "\n",
    "#Flow training images in a batch of 20 using train_data\n",
    "\n",
    "train_generator = train_data.flow_from_directory(train,\n",
    "                                                 batch_size=20, \n",
    "                                                 class_mode = 'binary', #Binary type classification problem(Horse and Human)\n",
    "                                                 target_size=(150,150)) #target_size is the size of the image that the CNN should expect\n",
    "#Flow testing images in a batch of 20 using test_data\n",
    "test_generator = test_data.flow_from_directory(test,\n",
    "                                               batch_size=20,\n",
    "                                               class_mode='binary',#Binary type classification problem(Horse and Human)\n",
    "                                               target_size=(150,150))"
   ]
  },
  {
   "cell_type": "markdown",
   "metadata": {
    "id": "r4UWdwDPga6m"
   },
   "source": [
    "There are 1027 images of 2 classes belongs to training set and 256 images of 2 classes belongs to validation set."
   ]
  },
  {
   "cell_type": "code",
   "execution_count": 8,
   "metadata": {
    "executionInfo": {
     "elapsed": 5958,
     "status": "ok",
     "timestamp": 1616845710395,
     "user": {
      "displayName": "kumar naidu",
      "photoUrl": "https://lh3.googleusercontent.com/a-/AOh14Gif4eWyq6PJPCeZjQCRckQ1x68It-O755mZHjjJv1I=s64",
      "userId": "02782955877092460365"
     },
     "user_tz": -60
    },
    "id": "1SgbICw5FRLX"
   },
   "outputs": [],
   "source": [
    "#Initialize the CNN_model\n",
    "\n",
    "model = tf.keras.models.Sequential()\n",
    "\n",
    "#Add convolution layers\n",
    "model.add(tf.keras.layers.Conv2D(32,(3,3), activation='relu', input_shape=(150,150,3)))\n",
    "model.add(tf.keras.layers.MaxPooling2D(pool_size=(2,2))) \n",
    "model.add(tf.keras.layers.Conv2D(64,(3,3), activation='relu'))\n",
    "model.add(tf.keras.layers.MaxPooling2D(pool_size=(2,2)))\n",
    "model.add(tf.keras.layers.Conv2D(128,(3,3), activation='relu'))\n",
    "model.add(tf.keras.layers.MaxPooling2D(pool_size=(2,2)))\n",
    "#model.add(tf.keras.layers.Conv2D(128,(3,3), activation='relu'))\n",
    "#model.add(tf.keras.layers.MaxPooling2D(pool_size=(2,2)))\n",
    "\n",
    "#Flattening : Flatten is the function that converts the pooled feature map to a single column.\n",
    "model.add(tf.keras.layers.Flatten()) "
   ]
  },
  {
   "cell_type": "code",
   "execution_count": 9,
   "metadata": {
    "executionInfo": {
     "elapsed": 540,
     "status": "ok",
     "timestamp": 1616845716819,
     "user": {
      "displayName": "kumar naidu",
      "photoUrl": "https://lh3.googleusercontent.com/a-/AOh14Gif4eWyq6PJPCeZjQCRckQ1x68It-O755mZHjjJv1I=s64",
      "userId": "02782955877092460365"
     },
     "user_tz": -60
    },
    "id": "4Z1ptUSkHezL"
   },
   "outputs": [],
   "source": [
    "#Fully connected ANN \n",
    "#model.add(tf.keras.layers.Dense(units=300, activation='relu'))\n",
    "model.add(tf.keras.layers.Dense(units=512, activation='relu'))\n",
    "#model.add(tf.keras.layers.Dense(units=256, activation='relu'))\n",
    "#model.add(tf.keras.layers.Dense(units=128, activation='relu'))\n",
    "#Output layers\n",
    "model.add(tf.keras.layers.Dense(units=1, activation='sigmoid')) #Sigmoid as this is a binary classiification problem."
   ]
  },
  {
   "cell_type": "code",
   "execution_count": 10,
   "metadata": {
    "executionInfo": {
     "elapsed": 484,
     "status": "ok",
     "timestamp": 1616845722059,
     "user": {
      "displayName": "kumar naidu",
      "photoUrl": "https://lh3.googleusercontent.com/a-/AOh14Gif4eWyq6PJPCeZjQCRckQ1x68It-O755mZHjjJv1I=s64",
      "userId": "02782955877092460365"
     },
     "user_tz": -60
    },
    "id": "4VaNU-fmJpQH"
   },
   "outputs": [],
   "source": [
    "#Model compilation\n",
    "model.compile(optimizer=RMSprop(learning_rate=0.001), loss='binary_crossentropy', metrics=['accuracy'])"
   ]
  },
  {
   "cell_type": "code",
   "execution_count": 11,
   "metadata": {
    "executionInfo": {
     "elapsed": 476,
     "status": "ok",
     "timestamp": 1616845723672,
     "user": {
      "displayName": "kumar naidu",
      "photoUrl": "https://lh3.googleusercontent.com/a-/AOh14Gif4eWyq6PJPCeZjQCRckQ1x68It-O755mZHjjJv1I=s64",
      "userId": "02782955877092460365"
     },
     "user_tz": -60
    },
    "id": "wofyzPD-XEkR"
   },
   "outputs": [],
   "source": [
    "#Using Earlystopping method to stop the model if the validation score is not improving after certain epochs. \n",
    "from keras.callbacks import EarlyStopping"
   ]
  },
  {
   "cell_type": "code",
   "execution_count": 12,
   "metadata": {
    "executionInfo": {
     "elapsed": 475,
     "status": "ok",
     "timestamp": 1616845725027,
     "user": {
      "displayName": "kumar naidu",
      "photoUrl": "https://lh3.googleusercontent.com/a-/AOh14Gif4eWyq6PJPCeZjQCRckQ1x68It-O755mZHjjJv1I=s64",
      "userId": "02782955877092460365"
     },
     "user_tz": -60
    },
    "id": "K85p_DviXEN7"
   },
   "outputs": [],
   "source": [
    "early_stop = EarlyStopping(monitor='val_accuracy', patience=10,verbose=1)"
   ]
  },
  {
   "cell_type": "code",
   "execution_count": 13,
   "metadata": {
    "colab": {
     "base_uri": "https://localhost:8080/"
    },
    "executionInfo": {
     "elapsed": 661317,
     "status": "ok",
     "timestamp": 1616846388563,
     "user": {
      "displayName": "kumar naidu",
      "photoUrl": "https://lh3.googleusercontent.com/a-/AOh14Gif4eWyq6PJPCeZjQCRckQ1x68It-O755mZHjjJv1I=s64",
      "userId": "02782955877092460365"
     },
     "user_tz": -60
    },
    "id": "ZFqGZjrVJDxR",
    "outputId": "82d2db22-2fba-43a1-8561-f98fa253a690"
   },
   "outputs": [
    {
     "name": "stderr",
     "output_type": "stream",
     "text": [
      "/usr/local/lib/python3.7/dist-packages/tensorflow/python/keras/engine/training.py:1844: UserWarning: `Model.fit_generator` is deprecated and will be removed in a future version. Please use `Model.fit`, which supports generators.\n",
      "  warnings.warn('`Model.fit_generator` is deprecated and '\n"
     ]
    },
    {
     "name": "stdout",
     "output_type": "stream",
     "text": [
      "Epoch 1/30\n",
      "51/51 - 334s - loss: 2.6913 - accuracy: 0.5829 - val_loss: 3.6422 - val_accuracy: 0.5000\n",
      "Epoch 2/30\n",
      "51/51 - 12s - loss: 0.6748 - accuracy: 0.6395 - val_loss: 1.1104 - val_accuracy: 0.6562\n",
      "Epoch 3/30\n",
      "51/51 - 12s - loss: 0.6477 - accuracy: 0.6912 - val_loss: 2.8907 - val_accuracy: 0.5508\n",
      "Epoch 4/30\n",
      "51/51 - 12s - loss: 0.4921 - accuracy: 0.7716 - val_loss: 2.6126 - val_accuracy: 0.5820\n",
      "Epoch 5/30\n",
      "51/51 - 12s - loss: 0.4203 - accuracy: 0.8292 - val_loss: 3.0299 - val_accuracy: 0.6602\n",
      "Epoch 6/30\n",
      "51/51 - 12s - loss: 0.3133 - accuracy: 0.8689 - val_loss: 3.1590 - val_accuracy: 0.6758\n",
      "Epoch 7/30\n",
      "51/51 - 12s - loss: 0.2941 - accuracy: 0.8848 - val_loss: 1.1162 - val_accuracy: 0.7852\n",
      "Epoch 8/30\n",
      "51/51 - 12s - loss: 0.2477 - accuracy: 0.9167 - val_loss: 10.8407 - val_accuracy: 0.5898\n",
      "Epoch 9/30\n",
      "51/51 - 12s - loss: 0.3155 - accuracy: 0.9027 - val_loss: 3.7223 - val_accuracy: 0.5938\n",
      "Epoch 10/30\n",
      "51/51 - 12s - loss: 0.2286 - accuracy: 0.9325 - val_loss: 3.6646 - val_accuracy: 0.7109\n",
      "Epoch 11/30\n",
      "51/51 - 12s - loss: 0.1881 - accuracy: 0.9325 - val_loss: 5.0825 - val_accuracy: 0.5977\n",
      "Epoch 12/30\n",
      "51/51 - 12s - loss: 0.1816 - accuracy: 0.9325 - val_loss: 3.5849 - val_accuracy: 0.6406\n",
      "Epoch 13/30\n",
      "51/51 - 12s - loss: 0.1564 - accuracy: 0.9484 - val_loss: 4.4441 - val_accuracy: 0.6797\n",
      "Epoch 14/30\n",
      "51/51 - 12s - loss: 0.1175 - accuracy: 0.9553 - val_loss: 2.7194 - val_accuracy: 0.7930\n",
      "Epoch 15/30\n",
      "51/51 - 12s - loss: 0.1225 - accuracy: 0.9672 - val_loss: 2.7099 - val_accuracy: 0.7188\n",
      "Epoch 16/30\n",
      "51/51 - 12s - loss: 0.1296 - accuracy: 0.9593 - val_loss: 2.7157 - val_accuracy: 0.7930\n",
      "Epoch 17/30\n",
      "51/51 - 12s - loss: 0.1316 - accuracy: 0.9583 - val_loss: 6.9976 - val_accuracy: 0.6445\n",
      "Epoch 18/30\n",
      "51/51 - 12s - loss: 0.0897 - accuracy: 0.9613 - val_loss: 1.0281 - val_accuracy: 0.9062\n",
      "Epoch 19/30\n",
      "51/51 - 12s - loss: 0.1288 - accuracy: 0.9643 - val_loss: 1.1680 - val_accuracy: 0.8438\n",
      "Epoch 20/30\n",
      "51/51 - 12s - loss: 0.2359 - accuracy: 0.9573 - val_loss: 2.5920 - val_accuracy: 0.7969\n",
      "Epoch 21/30\n",
      "51/51 - 12s - loss: 0.0540 - accuracy: 0.9821 - val_loss: 6.3730 - val_accuracy: 0.7148\n",
      "Epoch 22/30\n",
      "51/51 - 12s - loss: 0.1321 - accuracy: 0.9712 - val_loss: 6.1355 - val_accuracy: 0.6875\n",
      "Epoch 23/30\n",
      "51/51 - 12s - loss: 0.1655 - accuracy: 0.9662 - val_loss: 9.8721 - val_accuracy: 0.6406\n",
      "Epoch 24/30\n",
      "51/51 - 12s - loss: 0.1090 - accuracy: 0.9603 - val_loss: 4.8801 - val_accuracy: 0.7422\n",
      "Epoch 25/30\n",
      "51/51 - 12s - loss: 0.0665 - accuracy: 0.9811 - val_loss: 6.0081 - val_accuracy: 0.7500\n",
      "Epoch 26/30\n",
      "51/51 - 12s - loss: 0.1206 - accuracy: 0.9623 - val_loss: 3.0850 - val_accuracy: 0.7969\n",
      "Epoch 27/30\n",
      "51/51 - 12s - loss: 0.1289 - accuracy: 0.9643 - val_loss: 4.3272 - val_accuracy: 0.7578\n",
      "Epoch 28/30\n",
      "51/51 - 12s - loss: 0.1600 - accuracy: 0.9623 - val_loss: 1.9598 - val_accuracy: 0.7734\n",
      "Epoch 00028: early stopping\n"
     ]
    }
   ],
   "source": [
    "#Training the model\n",
    "result =  model.fit_generator(train_generator,\n",
    "                              steps_per_epoch =51, #Number_of_images = Bath_size*Steps_per_epoch\n",
    "                              epochs=30,\n",
    "                              validation_data= test_generator,\n",
    "                              validation_steps = 13,#Number_of_images = Bath_size*Steps_per_epoch\n",
    "                              callbacks = [early_stop],\n",
    "                              verbose=2)"
   ]
  },
  {
   "cell_type": "code",
   "execution_count": 14,
   "metadata": {
    "colab": {
     "base_uri": "https://localhost:8080/",
     "height": 284
    },
    "executionInfo": {
     "elapsed": 643,
     "status": "ok",
     "timestamp": 1616846427557,
     "user": {
      "displayName": "kumar naidu",
      "photoUrl": "https://lh3.googleusercontent.com/a-/AOh14Gif4eWyq6PJPCeZjQCRckQ1x68It-O755mZHjjJv1I=s64",
      "userId": "02782955877092460365"
     },
     "user_tz": -60
    },
    "id": "sygZGrd3JlvF",
    "outputId": "4668fdf3-40ed-4d16-b29b-9c56f35a5968"
   },
   "outputs": [
    {
     "data": {
      "text/plain": [
       "<matplotlib.legend.Legend at 0x7f0494090890>"
      ]
     },
     "execution_count": 14,
     "metadata": {
      "tags": []
     },
     "output_type": "execute_result"
    },
    {
     "data": {
      "image/png": "[encoded data removed]",
      "text/plain": [
       "<Figure size 432x288 with 1 Axes>"
      ]
     },
     "metadata": {
      "needs_background": "light",
      "tags": []
     },
     "output_type": "display_data"
    }
   ],
   "source": [
    "#Visualization of the model's performance\n",
    "import matplotlib.pyplot as plt\n",
    "%matplotlib inline\n",
    "train_score = result.history['accuracy']\n",
    "test_score = result.history['val_accuracy']\n",
    "\n",
    "plt.plot(train_score, 'bo', label='Train_Score')\n",
    "plt.plot(test_score, 'g', label='Test_score')\n",
    "plt.legend()"
   ]
  },
  {
   "cell_type": "code",
   "execution_count": 16,
   "metadata": {
    "executionInfo": {
     "elapsed": 492,
     "status": "ok",
     "timestamp": 1616846439287,
     "user": {
      "displayName": "kumar naidu",
      "photoUrl": "https://lh3.googleusercontent.com/a-/AOh14Gif4eWyq6PJPCeZjQCRckQ1x68It-O755mZHjjJv1I=s64",
      "userId": "02782955877092460365"
     },
     "user_tz": -60
    },
    "id": "_2Y0TEwBga6u"
   },
   "outputs": [],
   "source": [
    "#prediction - 1\n",
    "image_loc = '/content/drive/MyDrive/Colab Notebooks/Assignment1`/Validation/horses/horse1-122.png'\n",
    "\n",
    "#Image Loading\n",
    "load_image = tf.keras.preprocessing.image.load_img(image_loc, target_size=(150,150))\n",
    "#Converting image to array\n",
    "image_array = tf.keras.preprocessing.image.img_to_array(load_image)\n",
    "#Model expects image input in the form of batch\n",
    "batch_image = np.array([image_array])"
   ]
  },
  {
   "cell_type": "code",
   "execution_count": 17,
   "metadata": {
    "colab": {
     "base_uri": "https://localhost:8080/",
     "height": 167
    },
    "executionInfo": {
     "elapsed": 597,
     "status": "ok",
     "timestamp": 1616846440502,
     "user": {
      "displayName": "kumar naidu",
      "photoUrl": "https://lh3.googleusercontent.com/a-/AOh14Gif4eWyq6PJPCeZjQCRckQ1x68It-O755mZHjjJv1I=s64",
      "userId": "02782955877092460365"
     },
     "user_tz": -60
    },
    "id": "ij_ap5Ev7qSN",
    "outputId": "92540242-3c94-4126-d9c1-d81e8f66290e",
    "scrolled": false
   },
   "outputs": [
    {
     "data": {
      "image/png": "[encoded data removed]",
      "text/plain": [
       "<PIL.Image.Image image mode=RGB size=150x150 at 0x7F048E337710>"
      ]
     },
     "execution_count": 17,
     "metadata": {
      "tags": []
     },
     "output_type": "execute_result"
    }
   ],
   "source": [
    "#the image I'm supplying as an input\n",
    "load_image"
   ]
  },
  {
   "cell_type": "code",
   "execution_count": 24,
   "metadata": {
    "colab": {
     "base_uri": "https://localhost:8080/"
    },
    "executionInfo": {
     "elapsed": 556,
     "status": "ok",
     "timestamp": 1616846911350,
     "user": {
      "displayName": "kumar naidu",
      "photoUrl": "https://lh3.googleusercontent.com/a-/AOh14Gif4eWyq6PJPCeZjQCRckQ1x68It-O755mZHjjJv1I=s64",
      "userId": "02782955877092460365"
     },
     "user_tz": -60
    },
    "id": "xjXQBM1Nga6x",
    "outputId": "3d4d1124-856b-490e-e202-473f216ddad8"
   },
   "outputs": [
    {
     "name": "stdout",
     "output_type": "stream",
     "text": [
      "predicted values:  [[0.]]\n",
      "Predicted class:  [[0]]\n",
      "\n",
      "Its a horse\n"
     ]
    }
   ],
   "source": [
    "#predict the classification of the image\n",
    "pred = model.predict(batch_image)\n",
    "predict = (model.predict(batch_image)>0.5).astype('int32')\n",
    "print('predicted values: ',pred)\n",
    "print('Predicted class: ',predict)\n",
    "print(\"\")\n",
    "if predict ==0:\n",
    "  print(\"Its a horse\")\n",
    "else:\n",
    "  print(\"Its a human\")"
   ]
  },
  {
   "cell_type": "code",
   "execution_count": 19,
   "metadata": {
    "colab": {
     "base_uri": "https://localhost:8080/",
     "height": 167
    },
    "executionInfo": {
     "elapsed": 1047,
     "status": "ok",
     "timestamp": 1616846453448,
     "user": {
      "displayName": "kumar naidu",
      "photoUrl": "https://lh3.googleusercontent.com/a-/AOh14Gif4eWyq6PJPCeZjQCRckQ1x68It-O755mZHjjJv1I=s64",
      "userId": "02782955877092460365"
     },
     "user_tz": -60
    },
    "id": "HKuFszkTga6z",
    "outputId": "b2b61c0b-b741-4e11-c253-54170e50bf3e"
   },
   "outputs": [
    {
     "data": {
      "image/png": "[encoded data removed]",
      "text/plain": [
       "<PIL.Image.Image image mode=RGB size=150x150 at 0x7F048E37FED0>"
      ]
     },
     "execution_count": 19,
     "metadata": {
      "tags": []
     },
     "output_type": "execute_result"
    }
   ],
   "source": [
    "#prediction - 2\n",
    "image_loc = '/content/drive/MyDrive/Colab Notebooks/Assignment1`/Anil.jpg'\n",
    "#load the image\n",
    "image_load = tf.keras.preprocessing.image.load_img(image_loc, target_size=(150,150))\n",
    "#Convert image to array\n",
    "image_aray = tf.keras.preprocessing.image.img_to_array(image_load)\n",
    "#Batch array\n",
    "image_batch = np.array([image_aray])\n",
    "image_load"
   ]
  },
  {
   "cell_type": "code",
   "execution_count": 25,
   "metadata": {
    "colab": {
     "base_uri": "https://localhost:8080/"
    },
    "executionInfo": {
     "elapsed": 452,
     "status": "ok",
     "timestamp": 1616846995349,
     "user": {
      "displayName": "kumar naidu",
      "photoUrl": "https://lh3.googleusercontent.com/a-/AOh14Gif4eWyq6PJPCeZjQCRckQ1x68It-O755mZHjjJv1I=s64",
      "userId": "02782955877092460365"
     },
     "user_tz": -60
    },
    "id": "ZUNGzyAuga6z",
    "outputId": "fd97c742-eb6b-4590-d88f-899737b88c98"
   },
   "outputs": [
    {
     "name": "stdout",
     "output_type": "stream",
     "text": [
      "predicted value:  [[1.]]\n",
      "predicted class:  [[1]]\n",
      "\n",
      "Its a Human\n"
     ]
    }
   ],
   "source": [
    "#Predicting the classification of image.\n",
    "predi = model.predict(image_batch)\n",
    "prediction = (model.predict(image_batch)>0.5).astype('int32')\n",
    "print('predicted value: ',predi)\n",
    "print('predicted class: ',prediction)\n",
    "print(\"\")\n",
    "if prediction==0:\n",
    "  print(\"It's a Horse\")\n",
    "else:\n",
    "  print('Its a Human')"
   ]
  },
  {
   "cell_type": "code",
   "execution_count": null,
   "metadata": {
    "id": "hJd92wr6kXqs"
   },
   "outputs": [],
   "source": [
    "#The model classified the images correctly."
   ]
  }
 ],
 "metadata": {
  "accelerator": "GPU",
  "colab": {
   "collapsed_sections": [],
   "name": "Check_CNN_Assignment.ipynb",
   "provenance": []
  },
  "kernelspec": {
   "display_name": "Python 3",
   "language": "python",
   "name": "python3"
  },
  "language_info": {
   "codemirror_mode": {
    "name": "ipython",
    "version": 3
   },
   "file_extension": ".py",
   "mimetype": "text/x-python",
   "name": "python",
   "nbconvert_exporter": "python",
   "pygments_lexer": "ipython3",
   "version": "3.8.3"
  }
 },
 "nbformat": 4,
 "nbformat_minor": 1
}
